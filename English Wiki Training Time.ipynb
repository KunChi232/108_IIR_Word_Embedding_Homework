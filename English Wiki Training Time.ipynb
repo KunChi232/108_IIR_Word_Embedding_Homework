{
 "cells": [
  {
   "cell_type": "markdown",
   "metadata": {},
   "source": [
    "# Estimate English Wikipedia Trainging Time"
   ]
  },
  {
   "cell_type": "markdown",
   "metadata": {},
   "source": [
    "## skip-gram"
   ]
  },
  {
   "cell_type": "markdown",
   "metadata": {},
   "source": [
    "V = 50 * 3417737301 *  0.6<br>\n",
    "C = 5<br>\n",
    "D = 200<br>\n",
    "Q = C * (D + D * log(V)) ≒ 37314.25<br>\n",
    "E = 5<br>\n",
    "T = 3417737301<br>\n",
    "O = E * T * Q = 5 * 3417737301 * 37314.25 ≒ 637,651,520,419,196.25‬<br>"
   ]
  },
  {
   "cell_type": "code",
   "execution_count": null,
   "metadata": {},
   "outputs": [],
   "source": []
  }
 ],
 "metadata": {
  "kernelspec": {
   "display_name": "Python 3",
   "language": "python",
   "name": "python3"
  },
  "language_info": {
   "codemirror_mode": {
    "name": "ipython",
    "version": 3
   },
   "file_extension": ".py",
   "mimetype": "text/x-python",
   "name": "python",
   "nbconvert_exporter": "python",
   "pygments_lexer": "ipython3",
   "version": "3.6.8"
  }
 },
 "nbformat": 4,
 "nbformat_minor": 2
}
